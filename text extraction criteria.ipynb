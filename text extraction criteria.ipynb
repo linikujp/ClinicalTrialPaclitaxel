{
 "cells": [
  {
   "cell_type": "markdown",
   "metadata": {},
   "source": [
    "Parsing the 'eligibility' block. Seperate the 'inclusion' and 'exclusion' criteria into a dictionary, such that 'each one of the item will be in a list as value of the dictionary.\n",
    "{'inclusion criteria':\\[item1, item2, item3\\],'exclusion criteria':\\[item1,item2,item3\\]} <br>\n",
    "The final output will be a csv with columns: NCTID, critera_item, inclusive_exclusion flag"
   ]
  },
  {
   "cell_type": "code",
   "execution_count": 1,
   "metadata": {},
   "outputs": [],
   "source": [
    "import csv\n",
    "import re\n",
    "import pandas as pd"
   ]
  },
  {
   "cell_type": "code",
   "execution_count": 3,
   "metadata": {},
   "outputs": [
    {
     "data": {
      "text/html": [
       "<div>\n",
       "<style scoped>\n",
       "    .dataframe tbody tr th:only-of-type {\n",
       "        vertical-align: middle;\n",
       "    }\n",
       "\n",
       "    .dataframe tbody tr th {\n",
       "        vertical-align: top;\n",
       "    }\n",
       "\n",
       "    .dataframe thead th {\n",
       "        text-align: right;\n",
       "    }\n",
       "</style>\n",
       "<table border=\"1\" class=\"dataframe\">\n",
       "  <thead>\n",
       "    <tr style=\"text-align: right;\">\n",
       "      <th></th>\n",
       "      <th>NCTID</th>\n",
       "      <th>inclusion_exclusion</th>\n",
       "    </tr>\n",
       "  </thead>\n",
       "  <tbody>\n",
       "    <tr>\n",
       "      <th>1</th>\n",
       "      <td>NCT02599389</td>\n",
       "      <td>Inclusion Criteria: - Patient of age &gt; 18 year...</td>\n",
       "    </tr>\n",
       "    <tr>\n",
       "      <th>2</th>\n",
       "      <td>NCT02710656</td>\n",
       "      <td>Inclusion Criteria: 1. Patient must sign the i...</td>\n",
       "    </tr>\n",
       "    <tr>\n",
       "      <th>3</th>\n",
       "      <td>NCT01221610</td>\n",
       "      <td>Inclusion Criteria: 1. Age ≥ 50 years, 2. Info...</td>\n",
       "    </tr>\n",
       "    <tr>\n",
       "      <th>4</th>\n",
       "      <td>NCT01867736</td>\n",
       "      <td>Inclusion Criteria: 1. Subject has provided wr...</td>\n",
       "    </tr>\n",
       "    <tr>\n",
       "      <th>5</th>\n",
       "      <td>NCT00696956</td>\n",
       "      <td>Inclusion Criteria: - Age between 18 and 95 ye...</td>\n",
       "    </tr>\n",
       "  </tbody>\n",
       "</table>\n",
       "</div>"
      ],
      "text/plain": [
       "         NCTID                                inclusion_exclusion\n",
       "1  NCT02599389  Inclusion Criteria: - Patient of age > 18 year...\n",
       "2  NCT02710656  Inclusion Criteria: 1. Patient must sign the i...\n",
       "3  NCT01221610  Inclusion Criteria: 1. Age ≥ 50 years, 2. Info...\n",
       "4  NCT01867736  Inclusion Criteria: 1. Subject has provided wr...\n",
       "5  NCT00696956  Inclusion Criteria: - Age between 18 and 95 ye..."
      ]
     },
     "execution_count": 3,
     "metadata": {},
     "output_type": "execute_result"
    }
   ],
   "source": [
    "# use the xmltodict_out as input file\n",
    "data = pd.read_csv(\"output\\CT69_xmltodict_01_criteria.csv\",sep=\"\\t\",names = [\"NCTID\",\"inclusion_exclusion\"])\n",
    "# there is a 0 row contains the first line, which is not part of the data.\n",
    "criteria_data=data.drop(0,axis=0)\n",
    "criteria_data.head()"
   ]
  },
  {
   "cell_type": "code",
   "execution_count": 189,
   "metadata": {},
   "outputs": [],
   "source": [
    "#parsing inclusion_exclusion text block:\n",
    "#1. seperate into two inclusion and exclusion text string.\n",
    "#2. deal with two situations: 1) the criteria items were separated by \" - \" \n",
    "#                            2) the criteria items were separated by numerical bullets: \n",
    "#                               sometimes \n",
    "\n",
    "def extractCriteria (text):\n",
    "    '''\n",
    "    separate the list from the inclusion and exclusion text\n",
    "    Param: text --> return of function splitCriteria\n",
    "    return: text_list --> item list for inclusion and exclusion\n",
    "    '''\n",
    "    text_list = []\n",
    "    pattern_1 = re.compile(r'\\s{1}-\\s{1}.{5}')\n",
    "    pattern_2 = re.compile(r'(?<![and|or|\\>|\\<])\\s{1}[0-9]{1,2}\\.{1}\\s*.{5}')\n",
    "    pattern_3 = re.compile(r'.{5};.{5}')\n",
    "    if len(pattern_1.findall(text)) >= 2:\n",
    "        if re.match(r'^ -', text)  : \n",
    "            text = re.sub(r'^ -\\s*','', text)\n",
    "        text_list = text.split(' - ')\n",
    "    elif len(pattern_2.findall(text)) >= 3:\n",
    "        if re.match(r'^[0-9]', text):\n",
    "            text = re.sub(r'^[0-9]\\. ', '', text)\n",
    "        text_list = re.split('(?<![and|or|\\>|\\<])\\s{1}[0-9]{1,2}\\.{1}\\s*', text)\n",
    "    elif len(pattern_3.findall(text)) >= 3:\n",
    "        text_list = re.split(';',text)\n",
    "    else:\n",
    "        text_list = [text]\n",
    "    if len(text_list) <=1:\n",
    "        print(\"warning!  \"+text+\"  may not be processed.\")\n",
    "    return(text_list)\n",
    "\n",
    "#split the text into inclusion criteria and exclusion criteria\n",
    "def splitCriteria (text):\n",
    "    '''\n",
    "    spilt text into inclusion criteria and exclusion criteria\n",
    "    Param: text --> column 'exclusion_exclusion' from the csv file\n",
    "    return: two text string of inclusion and exclusion\n",
    "    '''\n",
    "    inclusion =\"\"\n",
    "    exclusion =\"\"\n",
    "    if re.match('General Exclusion Criteria', text): \n",
    "        text=text.split('General Exclusion Criteria:')\n",
    "        inclusion=text[0]\n",
    "        exclusion=text[1]\n",
    "    elif re.match('Exclusion Criteria', text):\n",
    "        text=text.split('Exclusion Criteria')\n",
    "        inclusion=text[0]\n",
    "        exclusion=text[1]\n",
    "    else:\n",
    "        inclusion = text\n",
    "    return (inclusion, exclusion)\n"
   ]
  },
  {
   "cell_type": "code",
   "execution_count": 141,
   "metadata": {},
   "outputs": [
    {
     "data": {
      "text/html": [
       "<div>\n",
       "<style scoped>\n",
       "    .dataframe tbody tr th:only-of-type {\n",
       "        vertical-align: middle;\n",
       "    }\n",
       "\n",
       "    .dataframe tbody tr th {\n",
       "        vertical-align: top;\n",
       "    }\n",
       "\n",
       "    .dataframe thead th {\n",
       "        text-align: right;\n",
       "    }\n",
       "</style>\n",
       "<table border=\"1\" class=\"dataframe\">\n",
       "  <thead>\n",
       "    <tr style=\"text-align: right;\">\n",
       "      <th></th>\n",
       "      <th>NCTID</th>\n",
       "      <th>inclusion_exclusion</th>\n",
       "      <th>inclusion</th>\n",
       "      <th>exclusion</th>\n",
       "    </tr>\n",
       "  </thead>\n",
       "  <tbody>\n",
       "    <tr>\n",
       "      <th>1</th>\n",
       "      <td>NCT02599389</td>\n",
       "      <td>Inclusion Criteria: - Patient of age &gt; 18 year...</td>\n",
       "      <td>Inclusion Criteria: - Patient of age &gt; 18 year...</td>\n",
       "      <td>- Life expectancy &gt;18 months - Patient alread...</td>\n",
       "    </tr>\n",
       "    <tr>\n",
       "      <th>2</th>\n",
       "      <td>NCT02710656</td>\n",
       "      <td>Inclusion Criteria: 1. Patient must sign the i...</td>\n",
       "      <td>Inclusion Criteria: 1. Patient must sign the i...</td>\n",
       "      <td>1. Patient is already included in this study ...</td>\n",
       "    </tr>\n",
       "    <tr>\n",
       "      <th>3</th>\n",
       "      <td>NCT01221610</td>\n",
       "      <td>Inclusion Criteria: 1. Age ≥ 50 years, 2. Info...</td>\n",
       "      <td>Inclusion Criteria: 1. Age ≥ 50 years, 2. Info...</td>\n",
       "      <td>1. Co-morbid conditions limiting life expecta...</td>\n",
       "    </tr>\n",
       "    <tr>\n",
       "      <th>4</th>\n",
       "      <td>NCT01867736</td>\n",
       "      <td>Inclusion Criteria: 1. Subject has provided wr...</td>\n",
       "      <td>Inclusion Criteria: 1. Subject has provided wr...</td>\n",
       "      <td>1. Flow-limiting (&gt; 50% DS) inflow lesion pro...</td>\n",
       "    </tr>\n",
       "    <tr>\n",
       "      <th>5</th>\n",
       "      <td>NCT00696956</td>\n",
       "      <td>Inclusion Criteria: - Age between 18 and 95 ye...</td>\n",
       "      <td>Inclusion Criteria: - Age between 18 and 95 ye...</td>\n",
       "      <td>- Disease associated with life-expectancy les...</td>\n",
       "    </tr>\n",
       "  </tbody>\n",
       "</table>\n",
       "</div>"
      ],
      "text/plain": [
       "         NCTID                                inclusion_exclusion  \\\n",
       "1  NCT02599389  Inclusion Criteria: - Patient of age > 18 year...   \n",
       "2  NCT02710656  Inclusion Criteria: 1. Patient must sign the i...   \n",
       "3  NCT01221610  Inclusion Criteria: 1. Age ≥ 50 years, 2. Info...   \n",
       "4  NCT01867736  Inclusion Criteria: 1. Subject has provided wr...   \n",
       "5  NCT00696956  Inclusion Criteria: - Age between 18 and 95 ye...   \n",
       "\n",
       "                                           inclusion  \\\n",
       "1  Inclusion Criteria: - Patient of age > 18 year...   \n",
       "2  Inclusion Criteria: 1. Patient must sign the i...   \n",
       "3  Inclusion Criteria: 1. Age ≥ 50 years, 2. Info...   \n",
       "4  Inclusion Criteria: 1. Subject has provided wr...   \n",
       "5  Inclusion Criteria: - Age between 18 and 95 ye...   \n",
       "\n",
       "                                           exclusion  \n",
       "1   - Life expectancy >18 months - Patient alread...  \n",
       "2   1. Patient is already included in this study ...  \n",
       "3   1. Co-morbid conditions limiting life expecta...  \n",
       "4   1. Flow-limiting (> 50% DS) inflow lesion pro...  \n",
       "5   - Disease associated with life-expectancy les...  "
      ]
     },
     "execution_count": 141,
     "metadata": {},
     "output_type": "execute_result"
    }
   ],
   "source": [
    "list = criteria_data['inclusion_exclusion']\n",
    "inclusion_list = []\n",
    "exclusion_list = []\n",
    "for text in list:\n",
    "    inclusion =\"\"\n",
    "    exclusion =\"\"\n",
    "    if re.search('General Exclusion Criteria', text) != None: \n",
    "        text=text.split('General Exclusion Criteria')\n",
    "        inclusion=text[0]\n",
    "        exclusion=text[1]\n",
    "        exclusion = re.sub(r'^\\s*:?\\s*', ' ', exclusion)\n",
    "    elif re.search('Exclusion Criteria', text) != None:\n",
    "        text=text.split('Exclusion Criteria')\n",
    "        inclusion=text[0]\n",
    "        exclusion=text[1]\n",
    "        exclusion = re.sub(r'^\\s*:?\\s*', ' ', exclusion)\n",
    "    else:\n",
    "        inclusion = text\n",
    "    inclusion_list.append(inclusion)\n",
    "    exclusion_list.append(exclusion)\n",
    "\n",
    "criteria_data['inclusion'] = inclusion_list\n",
    "criteria_data['exclusion'] = exclusion_list\n",
    "\n",
    "criteria_data.head()"
   ]
  },
  {
   "cell_type": "code",
   "execution_count": 190,
   "metadata": {},
   "outputs": [
    {
     "name": "stdout",
     "output_type": "stream",
     "text": [
      "warning!   - Subjects with symptomatic leg ischemia, requiring treatment of the Superficial Femoral Artery (SFA) or popliteal artery.   may not be processed.\n",
      "warning!    may not be processed.\n",
      "warning!   - Known intolerance to study medications, paclitaxel or contrast agents that in the opinion of the investigator cannot be adequately pre-treated  may not be processed.\n",
      "warning!    may not be processed.\n"
     ]
    }
   ],
   "source": [
    "#parse inclusion\n",
    "inclusion_item = []\n",
    "for i in inclusion_list:\n",
    "    i = re.sub(r'^Inclusion Criteria?:*\\s*',' ',i)\n",
    "    y = extractCriteria(i)\n",
    "    inclusion_item.append(y)\n",
    "\n",
    "#parse exclusion\n",
    "exclusion_item = []\n",
    "for j in exclusion_list:\n",
    "    x = extractCriteria(j)\n",
    "    #print (x)\n",
    "    exclusion_item.append(x)"
   ]
  },
  {
   "cell_type": "code",
   "execution_count": 191,
   "metadata": {},
   "outputs": [
    {
     "data": {
      "text/html": [
       "<div>\n",
       "<style scoped>\n",
       "    .dataframe tbody tr th:only-of-type {\n",
       "        vertical-align: middle;\n",
       "    }\n",
       "\n",
       "    .dataframe tbody tr th {\n",
       "        vertical-align: top;\n",
       "    }\n",
       "\n",
       "    .dataframe thead th {\n",
       "        text-align: right;\n",
       "    }\n",
       "</style>\n",
       "<table border=\"1\" class=\"dataframe\">\n",
       "  <thead>\n",
       "    <tr style=\"text-align: right;\">\n",
       "      <th></th>\n",
       "      <th>NCTID</th>\n",
       "      <th>inclusion_exclusion</th>\n",
       "      <th>inclusion</th>\n",
       "      <th>exclusion</th>\n",
       "      <th>inclusion_item</th>\n",
       "      <th>exclusion_item</th>\n",
       "    </tr>\n",
       "  </thead>\n",
       "  <tbody>\n",
       "    <tr>\n",
       "      <th>1</th>\n",
       "      <td>NCT02599389</td>\n",
       "      <td>Inclusion Criteria: - Patient of age &gt; 18 year...</td>\n",
       "      <td>Inclusion Criteria: - Patient of age &gt; 18 year...</td>\n",
       "      <td>- Life expectancy &gt;18 months - Patient alread...</td>\n",
       "      <td>[Patient of age &gt; 18 years, Patient with previ...</td>\n",
       "      <td>[Life expectancy &gt;18 months, Patient already i...</td>\n",
       "    </tr>\n",
       "    <tr>\n",
       "      <th>2</th>\n",
       "      <td>NCT02710656</td>\n",
       "      <td>Inclusion Criteria: 1. Patient must sign the i...</td>\n",
       "      <td>Inclusion Criteria: 1. Patient must sign the i...</td>\n",
       "      <td>1. Patient is already included in this study ...</td>\n",
       "      <td>[, Patient must sign the informed consent form...</td>\n",
       "      <td>[, Patient is already included in this study (...</td>\n",
       "    </tr>\n",
       "    <tr>\n",
       "      <th>3</th>\n",
       "      <td>NCT01221610</td>\n",
       "      <td>Inclusion Criteria: 1. Age ≥ 50 years, 2. Info...</td>\n",
       "      <td>Inclusion Criteria: 1. Age ≥ 50 years, 2. Info...</td>\n",
       "      <td>1. Co-morbid conditions limiting life expecta...</td>\n",
       "      <td>[ 1. Age ≥ 50 years, 2. Informed consent signe...</td>\n",
       "      <td>[, Co-morbid conditions limiting life expectan...</td>\n",
       "    </tr>\n",
       "    <tr>\n",
       "      <th>4</th>\n",
       "      <td>NCT01867736</td>\n",
       "      <td>Inclusion Criteria: 1. Subject has provided wr...</td>\n",
       "      <td>Inclusion Criteria: 1. Subject has provided wr...</td>\n",
       "      <td>1. Flow-limiting (&gt; 50% DS) inflow lesion pro...</td>\n",
       "      <td>[, Subject has provided written informed conse...</td>\n",
       "      <td>[, Flow-limiting (&gt; 50% DS) inflow lesion prox...</td>\n",
       "    </tr>\n",
       "    <tr>\n",
       "      <th>5</th>\n",
       "      <td>NCT00696956</td>\n",
       "      <td>Inclusion Criteria: - Age between 18 and 95 ye...</td>\n",
       "      <td>Inclusion Criteria: - Age between 18 and 95 ye...</td>\n",
       "      <td>- Disease associated with life-expectancy les...</td>\n",
       "      <td>[Age between 18 and 95 years,, peripheral vasc...</td>\n",
       "      <td>[Disease associated with life-expectancy less ...</td>\n",
       "    </tr>\n",
       "  </tbody>\n",
       "</table>\n",
       "</div>"
      ],
      "text/plain": [
       "         NCTID                                inclusion_exclusion  \\\n",
       "1  NCT02599389  Inclusion Criteria: - Patient of age > 18 year...   \n",
       "2  NCT02710656  Inclusion Criteria: 1. Patient must sign the i...   \n",
       "3  NCT01221610  Inclusion Criteria: 1. Age ≥ 50 years, 2. Info...   \n",
       "4  NCT01867736  Inclusion Criteria: 1. Subject has provided wr...   \n",
       "5  NCT00696956  Inclusion Criteria: - Age between 18 and 95 ye...   \n",
       "\n",
       "                                           inclusion  \\\n",
       "1  Inclusion Criteria: - Patient of age > 18 year...   \n",
       "2  Inclusion Criteria: 1. Patient must sign the i...   \n",
       "3  Inclusion Criteria: 1. Age ≥ 50 years, 2. Info...   \n",
       "4  Inclusion Criteria: 1. Subject has provided wr...   \n",
       "5  Inclusion Criteria: - Age between 18 and 95 ye...   \n",
       "\n",
       "                                           exclusion  \\\n",
       "1   - Life expectancy >18 months - Patient alread...   \n",
       "2   1. Patient is already included in this study ...   \n",
       "3   1. Co-morbid conditions limiting life expecta...   \n",
       "4   1. Flow-limiting (> 50% DS) inflow lesion pro...   \n",
       "5   - Disease associated with life-expectancy les...   \n",
       "\n",
       "                                      inclusion_item  \\\n",
       "1  [Patient of age > 18 years, Patient with previ...   \n",
       "2  [, Patient must sign the informed consent form...   \n",
       "3  [ 1. Age ≥ 50 years, 2. Informed consent signe...   \n",
       "4  [, Subject has provided written informed conse...   \n",
       "5  [Age between 18 and 95 years,, peripheral vasc...   \n",
       "\n",
       "                                      exclusion_item  \n",
       "1  [Life expectancy >18 months, Patient already i...  \n",
       "2  [, Patient is already included in this study (...  \n",
       "3  [, Co-morbid conditions limiting life expectan...  \n",
       "4  [, Flow-limiting (> 50% DS) inflow lesion prox...  \n",
       "5  [Disease associated with life-expectancy less ...  "
      ]
     },
     "execution_count": 191,
     "metadata": {},
     "output_type": "execute_result"
    }
   ],
   "source": [
    "criteria_data['inclusion_item'] = inclusion_item\n",
    "criteria_data['exclusion_item'] = exclusion_item\n",
    "\n",
    "criteria_data.head()"
   ]
  },
  {
   "cell_type": "code",
   "execution_count": 194,
   "metadata": {},
   "outputs": [
    {
     "data": {
      "text/html": [
       "<div>\n",
       "<style scoped>\n",
       "    .dataframe tbody tr th:only-of-type {\n",
       "        vertical-align: middle;\n",
       "    }\n",
       "\n",
       "    .dataframe tbody tr th {\n",
       "        vertical-align: top;\n",
       "    }\n",
       "\n",
       "    .dataframe thead th {\n",
       "        text-align: right;\n",
       "    }\n",
       "</style>\n",
       "<table border=\"1\" class=\"dataframe\">\n",
       "  <thead>\n",
       "    <tr style=\"text-align: right;\">\n",
       "      <th></th>\n",
       "      <th>Inclusion Items</th>\n",
       "      <th>NCTID</th>\n",
       "      <th>inclusion/exclusion</th>\n",
       "    </tr>\n",
       "  </thead>\n",
       "  <tbody>\n",
       "    <tr>\n",
       "      <th>0</th>\n",
       "      <td>Patient of age &gt; 18 years</td>\n",
       "      <td>NCT02599389</td>\n",
       "      <td>inclusion</td>\n",
       "    </tr>\n",
       "    <tr>\n",
       "      <th>1</th>\n",
       "      <td>Patient with previously peripheral implanted s...</td>\n",
       "      <td>NCT02599389</td>\n",
       "      <td>inclusion</td>\n",
       "    </tr>\n",
       "    <tr>\n",
       "      <th>2</th>\n",
       "      <td>Patient who received this stent between 3-36 m...</td>\n",
       "      <td>NCT02599389</td>\n",
       "      <td>inclusion</td>\n",
       "    </tr>\n",
       "    <tr>\n",
       "      <th>3</th>\n",
       "      <td>Patient with one or more in-stent restenosis l...</td>\n",
       "      <td>NCT02599389</td>\n",
       "      <td>inclusion</td>\n",
       "    </tr>\n",
       "    <tr>\n",
       "      <th>4</th>\n",
       "      <td>Reference vessel diameter between 4 and 7 mm</td>\n",
       "      <td>NCT02599389</td>\n",
       "      <td>inclusion</td>\n",
       "    </tr>\n",
       "  </tbody>\n",
       "</table>\n",
       "</div>"
      ],
      "text/plain": [
       "                                     Inclusion Items        NCTID  \\\n",
       "0                          Patient of age > 18 years  NCT02599389   \n",
       "1  Patient with previously peripheral implanted s...  NCT02599389   \n",
       "2  Patient who received this stent between 3-36 m...  NCT02599389   \n",
       "3  Patient with one or more in-stent restenosis l...  NCT02599389   \n",
       "4       Reference vessel diameter between 4 and 7 mm  NCT02599389   \n",
       "\n",
       "  inclusion/exclusion  \n",
       "0           inclusion  \n",
       "1           inclusion  \n",
       "2           inclusion  \n",
       "3           inclusion  \n",
       "4           inclusion  "
      ]
     },
     "execution_count": 194,
     "metadata": {},
     "output_type": "execute_result"
    }
   ],
   "source": [
    "# create new dataframe only with NCTID, inclusion_item, exclusion_item\n",
    "new_data_inclu = criteria_data[['NCTID','inclusion_item']]\n",
    "NCTIDs = []\n",
    "inclusion_items = []\n",
    "for __, row in new_data_inclu.iterrows():\n",
    "    NCTID = row.NCTID\n",
    "    for inclusion in row.inclusion_item:\n",
    "        NCTIDs.append(NCTID)\n",
    "        inclusion_items.append(inclusion)\n",
    "inclusion_to_NCTID = pd.DataFrame({\"NCTID\":NCTIDs,\"Inclusion Items\":inclusion_items, \"inclusion/exclusion\":\"inclusion\"})\n",
    "inclusion_to_NCTID.head()"
   ]
  },
  {
   "cell_type": "code",
   "execution_count": 195,
   "metadata": {},
   "outputs": [
    {
     "name": "stdout",
     "output_type": "stream",
     "text": [
      "please give the file name for your resulted inclusion item table: CT69_inclusion_v1\n"
     ]
    }
   ],
   "source": [
    "outfile = input('please give the file name for your resulted inclusion item table: ' )\n",
    "file = \"output\\\\\"+outfile+\".csv\"\n",
    "#with open(file, 'w') as csvfile:\n",
    "inclusion_to_NCTID.to_csv(file, index=False, header = True, sep='\\t')"
   ]
  },
  {
   "cell_type": "code",
   "execution_count": 134,
   "metadata": {},
   "outputs": [
    {
     "name": "stdout",
     "output_type": "stream",
     "text": [
      "[' - Male ', ' - Ruthe', ' - Patie', ' - A sin', ' - Refer', ' - Succe', ' - A pat']\n"
     ]
    },
    {
     "data": {
      "text/plain": [
       "['- Male or non-pregnant female ≥18 years of age.',\n",
       " 'Rutherford Clinical Category 2-5',\n",
       " 'Patient is willing to provide informed consent and comply with the required follow up visits,']"
      ]
     },
     "execution_count": 134,
     "metadata": {},
     "output_type": "execute_result"
    }
   ],
   "source": [
    "pattern_1 = re.compile(r'\\s{1}-\\s{1}.{5}')\n",
    "t = \"Clinical Criteria - Male or non-pregnant female ≥18 years of age. - Rutherford Clinical Category 2-5 - Patient is willing to provide informed consent and comply with the required follow up visits, testing schedule, and medication regimen Angiographic Criteria - A single de novo or restenotic atherosclerotic lesion >70% in the SFA or popliteal artery that is ≥4 cm and ≤15 cm in total length. - Reference vessel diameter ≥4 mm and ≤ 6mm - Successful wire crossing of lesion - A patent inflow artery free from significant lesion (>50% stenosis) as confirmed by angiography (treatment of target lesion acceptable after successful treatment of inflow artery lesions) \"\n",
    "print (pattern_1.findall(t))\n",
    "re.split('\\s{1}-\\s{1}',t)\n",
    "t2 = \"- Male or non-pregnant female ≥18 years of age. - Rutherford Clinical Category 2-5 - Patient is willing to provide informed consent and comply with the required follow up visits,\"\n",
    "re.split('\\s{1}-\\s{1}',t2)"
   ]
  },
  {
   "cell_type": "code",
   "execution_count": 135,
   "metadata": {},
   "outputs": [
    {
     "name": "stdout",
     "output_type": "stream",
     "text": [
      "[' 1. Male ', ' 2. Ruthe', ' 3. Patie', ' 4. Lengt', ' 5. Up to', ' 6. ≥70% ', ' 7. Lesio', ' 8. de no', ' 9. Lesio', ' 10. Targe', ' 11. Succe', ' 12. A pat', ' 13. At le', ' 14. Contr', ' 15. No ot']\n"
     ]
    },
    {
     "data": {
      "text/plain": [
       "['1. Male or non-pregnant female ≥18 years of age;',\n",
       " 'Rutherford Clinical Category 2-4;',\n",
       " 'Patient is willing to provide informed consent, is geographically stable and comply with the required follow up visits, testing schedule and medication regimen; Angiographic Lesion Inclusion Criteria:',\n",
       " 'Length ≤15 cm;',\n",
       " 'Up to two focal lesions or segments within the designated 15 cm length of vessel may be treated (e.g. two discrete segments, separated by several cm, but both falling within a composite length of <15 cm);',\n",
       " '≥70% stenosis by visual estimate;',\n",
       " 'Lesion location starts ≥1 cm below the common femoral bifurcation and terminates distally ≤2 cm below the tibial plateau AND ≥1 cm above the origin of the TP trunk;',\n",
       " 'de novo lesion(s) or non-stented restenotic lesion(s) >90 days from prior angioplasty procedure;',\n",
       " 'Lesion is located at least 3 cm from any stent, if target vessel was previously stented;',\n",
       " 'Target vessel diameter between ≥4 and ≤6 mm and able to be treated with available device size matrix;',\n",
       " 'Successful, uncomplicated (without use of a crossing device) antegrade wire crossing of lesion;',\n",
       " 'A patent inflow artery free from significant lesion (≥50% stenosis) as confirmed by angiography (treatment of target lesion acceptable after successful treatment of inflow artery lesions); NOTE: Successful inflow artery treatment is defined as attainment of residual diameter stenosis ≤30% without death or major vascular complication.',\n",
       " 'At least one patent native outflow artery to the ankle, free from significant (≥50%) stenosis as confirmed by angiography that has not previously been revascularized (treatment of outflow disease is NOT permitted during the index procedure);',\n",
       " 'Contralateral limb lesion(s) cannot be treated within 2 weeks before and/or planned 30 days after the protocol treatment in order to avoid confounding complications;',\n",
       " 'No other prior vascular interventions within 2 weeks before and/or planned 30 days after the protocol treatment. ']"
      ]
     },
     "execution_count": 135,
     "metadata": {},
     "output_type": "execute_result"
    }
   ],
   "source": [
    "pattern_2 = re.compile(r'(?<![and|or|\\>|\\<])\\s{1}[0-9]{1,2}\\.{1}\\s*.{5}')\n",
    "t1 = \"Clinical Inclusion Criteria: 1. Male or non-pregnant female ≥18 years of age; 2. Rutherford Clinical Category 2-4; 3. Patient is willing to provide informed consent, is geographically stable and comply with the required follow up visits, testing schedule and medication regimen; Angiographic Lesion Inclusion Criteria: 4. Length ≤15 cm; 5. Up to two focal lesions or segments within the designated 15 cm length of vessel may be treated (e.g. two discrete segments, separated by several cm, but both falling within a composite length of <15 cm); 6. ≥70% stenosis by visual estimate; 7. Lesion location starts ≥1 cm below the common femoral bifurcation and terminates distally ≤2 cm below the tibial plateau AND ≥1 cm above the origin of the TP trunk; 8. de novo lesion(s) or non-stented restenotic lesion(s) >90 days from prior angioplasty procedure; 9. Lesion is located at least 3 cm from any stent, if target vessel was previously stented; 10. Target vessel diameter between ≥4 and ≤6 mm and able to be treated with available device size matrix; 11. Successful, uncomplicated (without use of a crossing device) antegrade wire crossing of lesion; 12. A patent inflow artery free from significant lesion (≥50% stenosis) as confirmed by angiography (treatment of target lesion acceptable after successful treatment of inflow artery lesions); NOTE: Successful inflow artery treatment is defined as attainment of residual diameter stenosis ≤30% without death or major vascular complication. 13. At least one patent native outflow artery to the ankle, free from significant (≥50%) stenosis as confirmed by angiography that has not previously been revascularized (treatment of outflow disease is NOT permitted during the index procedure); 14. Contralateral limb lesion(s) cannot be treated within 2 weeks before and/or planned 30 days after the protocol treatment in order to avoid confounding complications; 15. No other prior vascular interventions within 2 weeks before and/or planned 30 days after the protocol treatment. \"\n",
    "print (pattern_2.findall(t1))\n",
    "re.split('(?<![and|or|\\>|\\<])\\s{1}[0-9]{1,2}\\.{1}\\s*', t1)\n",
    "t3 = re.sub('Clinical Inclusion Criteria: ','', t1)\n",
    "re.split('(?<![and|or|\\>|\\<])\\s{1}[0-9]{1,2}\\.{1}\\s*', t3)"
   ]
  },
  {
   "cell_type": "code",
   "execution_count": 150,
   "metadata": {},
   "outputs": [
    {
     "name": "stdout",
     "output_type": "stream",
     "text": [
      "['women; Subj', 'mptom; Subj', 'years; Lesi', ' 40mm; Targ', 'hemia; Sing', ' situ; Subj', 'onths; Targ']\n"
     ]
    },
    {
     "data": {
      "text/plain": [
       "['Subject need 18 to 80 years of aged male or non-pregnant women',\n",
       " ' Subject has stable anina pectoris, or unstable anina pectoris, or old myocardial infarction patients, or ischemia with evidence but without symptom',\n",
       " ' Subject has a life expectancy of more than 2 years',\n",
       " ' Lesion vessel reference diameter is less than or equal to 2.5mm, target lesion length is less than or equal to 40mm',\n",
       " ' Target lesion stenosis is equal or greater than 70% or 50% and with ischemia',\n",
       " ' Single or two coronary small vessel lesions in situ',\n",
       " ' Subject can understand the trail purpose, sign informed consent voluntarily, agree to accept clinical telephone follow-up and angiographic follow-up at 9 months',\n",
       " ' Target lesion can be pre-expanded successfully (Guide wire can get through lesion, balloon pre-expand the remnant stenosis of vessel lumen is less or equal to 50%, without current limiting interlayer and thrombosis).']"
      ]
     },
     "execution_count": 150,
     "metadata": {},
     "output_type": "execute_result"
    }
   ],
   "source": [
    "t4 = \"Subject need 18 to 80 years of aged male or non-pregnant women; Subject has stable anina pectoris, or unstable anina pectoris, or old myocardial infarction patients, or ischemia with evidence but without symptom; Subject has a life expectancy of more than 2 years; Lesion vessel reference diameter is less than or equal to 2.5mm, target lesion length is less than or equal to 40mm; Target lesion stenosis is equal or greater than 70% or 50% and with ischemia; Single or two coronary small vessel lesions in situ; Subject can understand the trail purpose, sign informed consent voluntarily, agree to accept clinical telephone follow-up and angiographic follow-up at 9 months; Target lesion can be pre-expanded successfully (Guide wire can get through lesion, balloon pre-expand the remnant stenosis of vessel lumen is less or equal to 50%, without current limiting interlayer and thrombosis).\"\n",
    "pattern_3 = re.compile(r'.{5};.{5}')\n",
    "print (pattern_3.findall(t4))\n",
    "re.split(';',t4)"
   ]
  },
  {
   "cell_type": "code",
   "execution_count": null,
   "metadata": {},
   "outputs": [],
   "source": []
  }
 ],
 "metadata": {
  "kernelspec": {
   "display_name": "Python 3",
   "language": "python",
   "name": "python3"
  },
  "language_info": {
   "codemirror_mode": {
    "name": "ipython",
    "version": 3
   },
   "file_extension": ".py",
   "mimetype": "text/x-python",
   "name": "python",
   "nbconvert_exporter": "python",
   "pygments_lexer": "ipython3",
   "version": "3.6.4"
  }
 },
 "nbformat": 4,
 "nbformat_minor": 2
}
